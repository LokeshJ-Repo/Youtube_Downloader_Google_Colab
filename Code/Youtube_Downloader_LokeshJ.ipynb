{
  "cells": [
    {
      "cell_type": "code",
      "source": [
        "\n",
        "#@title **Option 1:**\n",
        "#@markdown **Download Youtube Audio/Video**\n",
        "#@markdown ---\n",
        "#@markdown **Fill bilow inputs before running cell**\n",
        "import os\n",
        "os.system(\"pip install pytube\")\n",
        "os.system(\"wget https://raw.githubusercontent.com/LokeshJ-Repo/Youtube_Downloader_Google_Colab/main/Code/cipher.py\")\n",
        "os.system(\"mv cipher.py /usr/local/lib/python3.7/dist-packages/pytube/cipher.py\")\n",
        "import pytube \n",
        "from pytube import YouTube\n",
        "from google.colab import files\n",
        "#@markdown ---\n",
        "YT_URL = \"\" #@param {type:\"string\"}\n",
        "#@markdown ---\n",
        "File_Type = \"Audio\" #@param [\"Audio\", \"Video\"]\n",
        "if(File_Type==\"Audio\"): \n",
        "  itag = 140 \n",
        "else: \n",
        "    itag = 18\n",
        "   \n",
        "\n",
        "if(YT_URL.startswith(\"https://\")):\n",
        "  yt = YouTube(YT_URL)\n",
        "  yt.streams.get_by_itag(itag).download()\n",
        "  filename= yt.streams.get_by_itag(itag).default_filename\n",
        "  if(File_Type==\"Audio\"):\n",
        "    os.rename(filename, filename[0:-3]+\"mp3\") \n",
        "    filename=filename[0:-3]+\"mp3\"\n",
        "  files.download(filename)\n",
        "else:\n",
        "  print(\"Enter valid URL\")"
      ],
      "metadata": {
        "id": "JeVn7UjM7hyg",
        "cellView": "form",
        "colab": {
          "base_uri": "https://localhost:8080/",
          "height": 17
        },
        "outputId": "a39f7ee8-9867-49db-9739-2a23b5ab7e4e"
      },
      "execution_count": null,
      "outputs": [
        {
          "output_type": "display_data",
          "data": {
            "application/javascript": [
              "\n",
              "    async function download(id, filename, size) {\n",
              "      if (!google.colab.kernel.accessAllowed) {\n",
              "        return;\n",
              "      }\n",
              "      const div = document.createElement('div');\n",
              "      const label = document.createElement('label');\n",
              "      label.textContent = `Downloading \"${filename}\": `;\n",
              "      div.appendChild(label);\n",
              "      const progress = document.createElement('progress');\n",
              "      progress.max = size;\n",
              "      div.appendChild(progress);\n",
              "      document.body.appendChild(div);\n",
              "\n",
              "      const buffers = [];\n",
              "      let downloaded = 0;\n",
              "\n",
              "      const channel = await google.colab.kernel.comms.open(id);\n",
              "      // Send a message to notify the kernel that we're ready.\n",
              "      channel.send({})\n",
              "\n",
              "      for await (const message of channel.messages) {\n",
              "        // Send a message to notify the kernel that we're ready.\n",
              "        channel.send({})\n",
              "        if (message.buffers) {\n",
              "          for (const buffer of message.buffers) {\n",
              "            buffers.push(buffer);\n",
              "            downloaded += buffer.byteLength;\n",
              "            progress.value = downloaded;\n",
              "          }\n",
              "        }\n",
              "      }\n",
              "      const blob = new Blob(buffers, {type: 'application/binary'});\n",
              "      const a = document.createElement('a');\n",
              "      a.href = window.URL.createObjectURL(blob);\n",
              "      a.download = filename;\n",
              "      div.appendChild(a);\n",
              "      a.click();\n",
              "      div.remove();\n",
              "    }\n",
              "  "
            ],
            "text/plain": [
              "<IPython.core.display.Javascript object>"
            ]
          },
          "metadata": {}
        },
        {
          "output_type": "display_data",
          "data": {
            "application/javascript": [
              "download(\"download_33fde3ce-ec91-40a3-be7b-eefb7d4c387f\", \"Epilogue (God Of War Soundtrack).mp3\", 766176)"
            ],
            "text/plain": [
              "<IPython.core.display.Javascript object>"
            ]
          },
          "metadata": {}
        }
      ]
    },
    {
      "cell_type": "code",
      "source": [
        "#@title **Option 2:**\n",
        "#@markdown **Step 1: Mount GDrive**\n",
        "from google.colab import drive\n",
        "drive.mount('/content/drive')"
      ],
      "metadata": {
        "cellView": "form",
        "id": "R0kET02CER8M"
      },
      "execution_count": null,
      "outputs": []
    },
    {
      "cell_type": "code",
      "source": [
        "#@markdown **Step 2: Download Youtube Audio/Video GDrive**\n",
        "#@markdown ---\n",
        "#@markdown **Fill bilow inputs before running cell**\n",
        "from subprocess import Popen, PIPE, getoutput \n",
        "Popen([\"pip\",\"install\",\"pytube\"]).communicate()\n",
        "import os\n",
        "os.system(\"pip install pytube\")\n",
        "os.system(\"wget https://raw.githubusercontent.com/LokeshJ-Repo/Youtube_Downloader_Google_Colab/main/Code/cipher.py\")\n",
        "os.system(\"mv cipher.py /usr/local/lib/python3.7/dist-packages/pytube/cipher.py\")\n",
        "!apt-get install xattr > /dev/null\n",
        "from pytube import YouTube\n",
        "from google.colab import files\n",
        "import os\n",
        "\n",
        "os.chdir(\"/content/drive/MyDrive/Downloads/\")\n",
        "\n",
        "#@markdown ---\n",
        "YT_URL = \"https://youtu.be/JldMvQMO_5U\" #@param {type:\"string\"}\n",
        "#@markdown ---\n",
        "File_Type = \"Video\" #@param [\"Audio\", \"Video\"]\n",
        "if(File_Type==\"Audio\"): \n",
        "  itag = 140 \n",
        "else: \n",
        "  itag = 18\n",
        "\n",
        "if(YT_URL.startswith(\"https://\")):\n",
        "  yt = YouTube(YT_URL)\n",
        "  yt.streams.get_by_itag(itag).download()\n",
        "  filename= yt.streams.get_by_itag(itag).default_filename\n",
        "  if(File_Type=='Audio'):\n",
        "    os.rename(filename, filename[0:-3]+\"mp3\") \n",
        "    filename=filename[0:-3]+\"mp3\"\n",
        "  \n",
        "  while(1):\n",
        "    fid = getoutput(\"xattr -p\"+ \" 'user.drive.id' \"+\"'/content/drive/My Drive/Downloads/\"+filename+\"'\" )\n",
        "    if (fid[0:5]==\"local\"):\n",
        "        continue\n",
        "    else:\n",
        "        print(\"\\n\"+filename+\":\\t\"+\"https://docs.google.com/uc?export/download&id=\"+fid)\n",
        "        break\n",
        "else:\n",
        "  print(\"Enter valid URL\")"
      ],
      "metadata": {
        "id": "1w4g-d6-FcfV",
        "cellView": "form"
      },
      "execution_count": null,
      "outputs": []
    }
  ],
  "metadata": {
    "colab": {
      "collapsed_sections": [],
      "name": "Youtube_Downloader_LokeshJ",
      "provenance": []
    },
    "kernelspec": {
      "display_name": "Python 3",
      "name": "python3"
    }
  },
  "nbformat": 4,
  "nbformat_minor": 0
}
