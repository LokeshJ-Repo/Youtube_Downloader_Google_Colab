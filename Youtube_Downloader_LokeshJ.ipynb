{
  "cells": [
    {
      "cell_type": "code",
      "source": [
        "\n",
        "#@title **Option 1:**\n",
        "#@markdown **Download Youtube Audio/Video**\n",
        "#@markdown ---\n",
        "#@markdown **Fill bilow inputs before running cell**\n",
        "import pytube \n",
        "from pytube import YouTube\n",
        "from google.colab import files\n",
        "#@markdown ---\n",
        "YT_URL = \"\" #@param {type:\"string\"}\n",
        "#@markdown ---\n",
        "File_Type = \"Audio\" #@param [\"Audio\", \"Video\"]\n",
        "if(File_Type=\"Audio\"): itag = 140 else: itag = 18\n",
        "   \n",
        "\n",
        "if(Title.startswith(\"https://\")):\n",
        "  yt = YouTube(YT_URL)\n",
        "  yt.streams.get_by_itag(itag).download()\n",
        "  filename= yt.streams.get_by_itag(itag).default_filename\n",
        "  if(File_Type='Audio'):\n",
        "    os.rename(filename, filename[0:-3]+\"mp3\") \n",
        "    filename=filename[0:-3]+\"mp3\"\n",
        "  files.download(filename)\n",
        "else:\n",
        "  print(\"Enter valid URL\")"
      ],
      "metadata": {
        "id": "JeVn7UjM7hyg",
        "cellView": "form"
      },
      "execution_count": null,
      "outputs": []
    },
    {
      "cell_type": "code",
      "source": [
        "#@title **Option 2:**\n",
        "#@markdown **Step 1: Mount GDrive**\n",
        "from google.colab import drive\n",
        "drive.mount('/content/drive')"
      ],
      "metadata": {
        "cellView": "form",
        "id": "R0kET02CER8M"
      },
      "execution_count": null,
      "outputs": []
    },
    {
      "cell_type": "code",
      "source": [
        "#@markdown **Step 2: Download Youtube Audio/Video GDrive**\n",
        "#@markdown ---\n",
        "#@markdown **Fill bilow inputs before running cell**\n",
        "from subprocess import Popen, PIPE, getoutput \n",
        "Popen([\"pip\",\"install\",\"pytube\"]).communicate()\n",
        "!apt-get install xattr > /dev/null\n",
        "from pytube import YouTube\n",
        "from google.colab import files\n",
        "import os\n",
        "\n",
        "os.chdir(\"/content/drive/MyDrive/Downloads/\")\n",
        "\n",
        "#@markdown ---\n",
        "YT_URL = \"\" #@param {type:\"string\"}\n",
        "#@markdown ---\n",
        "File_Type = \"Audio\" #@param [\"Audio\", \"Video\"]\n",
        "if(File_Type=\"Audio\"): itag = 140 else: itag = 18\n",
        "\n",
        "if(Title.startswith(\"https://\")):\n",
        "  yt = YouTube(Title)\n",
        "  yt.streams.get_by_itag(itag).download()\n",
        "  filename= yt.streams.get_by_itag(itag).default_filename\n",
        "  if(File_Type='Audio'):\n",
        "    os.rename(filename, filename[0:-3]+\"mp3\") \n",
        "    filename=filename[0:-3]+\"mp3\"\n",
        "  \n",
        "  while(1):\n",
        "    fid = getoutput(\"xattr -p\"+ \" 'user.drive.id' \"+\"'/content/drive/My Drive/Downloads/\"+filename+\"'\" )\n",
        "    if (fid[0:5]==\"local\"):\n",
        "        continue\n",
        "    else:\n",
        "        print(\"\\n\"+filename+\":\\t\"+\"https://docs.google.com/uc?export/download&id=\"+fid)\n",
        "        break\n",
        "else:\n",
        "  print(\"Enter valid URL\")"
      ],
      "metadata": {
        "id": "1w4g-d6-FcfV",
        "cellView": "form"
      },
      "execution_count": null,
      "outputs": []
    }
  ],
  "metadata": {
    "colab": {
      "collapsed_sections": [],
      "name": "Youtube_Downloader_LokeshJ",
      "provenance": []
    },
    "kernelspec": {
      "display_name": "Python 3",
      "name": "python3"
    }
  },
  "nbformat": 4,
  "nbformat_minor": 0
}